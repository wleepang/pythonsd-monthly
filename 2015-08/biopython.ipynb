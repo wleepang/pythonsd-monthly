{
 "cells": [
  {
   "cell_type": "markdown",
   "metadata": {
    "slideshow": {
     "slide_type": "slide"
    }
   },
   "source": [
    "# biopython and itertools\n",
    "#### So, you want to make a combinatorial mutation library\n",
    "\n",
    "W. Lee Pang"
   ]
  },
  {
   "cell_type": "markdown",
   "metadata": {
    "slideshow": {
     "slide_type": "slide"
    }
   },
   "source": [
    "# Who am i?\n",
    "\n",
    "### Research Scientist @ Genomatica, Inc\n",
    "R&D Systems Integration and Computational Modeling\n",
    "\n",
    "#### Role:\n",
    "Create analysis algorithms and software solutions for lab scientists to make the best use of their data"
   ]
  },
  {
   "cell_type": "markdown",
   "metadata": {
    "slideshow": {
     "slide_type": "slide"
    }
   },
   "source": [
    "# Where I work\n",
    "\n",
    "My company engineers microbes to make <b style=\"color:purple\">important industrial molecules (e.g. pre-spandex)</b> from <b style=\"color:darkgreen\">renewable sources (i.e. sugar)</b>.\n",
    "\n",
    "Do do this, we:\n",
    "* add custom DNA (genes) to microbes \n",
    "* to make custom proteins \n",
    "* that do custom chemical reactions \n",
    "* to make the molecules we are interested in.\n",
    "\n",
    "These days, a custom gene can be easily synthesized. So effectively, we need to specify a custom DNA sequence.\n",
    "\n",
    "It's finding the right custom protein that is the bottleneck."
   ]
  },
  {
   "cell_type": "markdown",
   "metadata": {
    "slideshow": {
     "slide_type": "slide"
    }
   },
   "source": [
    "# Brief biology lesson\n",
    "\n",
    "Getting from DNA to proteins:\n",
    "```\n",
    "DNA (\"genes\":\"source code\", a chain of nucleotide pairs, ATGC)\n",
    "```"
   ]
  },
  {
   "cell_type": "markdown",
   "metadata": {
    "slideshow": {
     "slide_type": "fragment"
    }
   },
   "source": [
    "```\n",
    ":\n",
    "v [transcription]\n",
    "\n",
    "RNA (\"transcipts\":\"byte code\", a chain of single nucleotides, AUGC)\n",
    "```"
   ]
  },
  {
   "cell_type": "markdown",
   "metadata": {
    "slideshow": {
     "slide_type": "fragment"
    }
   },
   "source": [
    "```\n",
    ":\n",
    "v [translation]\n",
    "\n",
    "Protein (\"enzymes\":\"compiled program\", a chain of single amino acids)\n",
    "```\n",
    "Proteins make specific chemical reactions happen in a cell."
   ]
  },
  {
   "cell_type": "markdown",
   "metadata": {
    "slideshow": {
     "slide_type": "slide"
    }
   },
   "source": [
    "# Brief biology lession (cont)\n",
    "\n",
    "3 DNA/RNA letters (nucleotides) => 1 Protein letter (amino acid)\n",
    "\n",
    "These 3-letter DNA/RNA words are called \"codons\"\n",
    "There's a standard set of them.\n",
    "\n"
   ]
  },
  {
   "cell_type": "code",
   "execution_count": 1,
   "metadata": {
    "collapsed": true,
    "slideshow": {
     "slide_type": "skip"
    }
   },
   "outputs": [],
   "source": [
    "from Bio.Data import CodonTable"
   ]
  },
  {
   "cell_type": "code",
   "execution_count": 2,
   "metadata": {
    "collapsed": false,
    "scrolled": true,
    "slideshow": {
     "slide_type": "fragment"
    }
   },
   "outputs": [
    {
     "name": "stdout",
     "output_type": "stream",
     "text": [
      "Table 1 Standard, SGC0\n",
      "\n",
      "  |  T      |  C      |  A      |  G      |\n",
      "--+---------+---------+---------+---------+--\n",
      "T | TTT F   | TCT S   | TAT Y   | TGT C   | T\n",
      "T | TTC F   | TCC S   | TAC Y   | TGC C   | C\n",
      "T | TTA L   | TCA S   | TAA Stop| TGA Stop| A\n",
      "T | TTG L(s)| TCG S   | TAG Stop| TGG W   | G\n",
      "--+---------+---------+---------+---------+--\n",
      "C | CTT L   | CCT P   | CAT H   | CGT R   | T\n",
      "C | CTC L   | CCC P   | CAC H   | CGC R   | C\n",
      "C | CTA L   | CCA P   | CAA Q   | CGA R   | A\n",
      "C | CTG L(s)| CCG P   | CAG Q   | CGG R   | G\n",
      "--+---------+---------+---------+---------+--\n",
      "A | ATT I   | ACT T   | AAT N   | AGT S   | T\n",
      "A | ATC I   | ACC T   | AAC N   | AGC S   | C\n",
      "A | ATA I   | ACA T   | AAA K   | AGA R   | A\n",
      "A | ATG M(s)| ACG T   | AAG K   | AGG R   | G\n",
      "--+---------+---------+---------+---------+--\n",
      "G | GTT V   | GCT A   | GAT D   | GGT G   | T\n",
      "G | GTC V   | GCC A   | GAC D   | GGC G   | C\n",
      "G | GTA V   | GCA A   | GAA E   | GGA G   | A\n",
      "G | GTG V   | GCG A   | GAG E   | GGG G   | G\n",
      "--+---------+---------+---------+---------+--\n"
     ]
    }
   ],
   "source": [
    "print(CodonTable.standard_dna_table)"
   ]
  },
  {
   "cell_type": "markdown",
   "metadata": {
    "slideshow": {
     "slide_type": "slide"
    }
   },
   "source": [
    "# Engineering proteins\n",
    "\n",
    "Designing a protein often requires changing several amino acids (at the same time) in a protein"
   ]
  },
  {
   "cell_type": "markdown",
   "metadata": {
    "slideshow": {
     "slide_type": "fragment"
    }
   },
   "source": [
    "\n",
    "This can be simple ...\n",
    "- Position  10: Asp, Cys, Ser, Tyr\n",
    "- Position 120: Asp, Glu, Asn, Gln\n",
    "\n",
    "and test all 16 possible combinations\n"
   ]
  },
  {
   "cell_type": "markdown",
   "metadata": {
    "slideshow": {
     "slide_type": "fragment"
    }
   },
   "source": [
    "\n",
    "Or complicated ...\n",
    "- Position  10: All 20 possible amino acids\n",
    "- Position 120: All 20 possible amino acids\n",
    "- Position 350: All 20 possible amino acids\n",
    "\n",
    "and test all 8000 possible combinations\n"
   ]
  },
  {
   "cell_type": "markdown",
   "metadata": {
    "slideshow": {
     "slide_type": "fragment"
    }
   },
   "source": [
    "This is called creating a \"combinatorial mutation library\".\n",
    "\n",
    "Each combination is called a \"variant\"."
   ]
  },
  {
   "cell_type": "markdown",
   "metadata": {
    "slideshow": {
     "slide_type": "slide"
    }
   },
   "source": [
    "# Where does python come in?\n",
    "\n",
    "## Biopython!\n",
    "- read/write DNA, RNA, and Protein sequences from/to standard formats\n",
    "- Trascription and translation operations\n",
    "- many other things related to sequence analysis and manipulation ...\n",
    "\n",
    "Easily write a script to efficiently create combinatorial mutation libraries of 8000 (or more) unique variants.\n"
   ]
  },
  {
   "cell_type": "markdown",
   "metadata": {
    "slideshow": {
     "slide_type": "slide"
    }
   },
   "source": [
    "# A hello world example"
   ]
  },
  {
   "cell_type": "code",
   "execution_count": 3,
   "metadata": {
    "collapsed": true,
    "slideshow": {
     "slide_type": "-"
    }
   },
   "outputs": [],
   "source": [
    "from Bio.Seq import Seq\n",
    "from Bio.Alphabet import IUPAC"
   ]
  },
  {
   "cell_type": "code",
   "execution_count": 8,
   "metadata": {
    "collapsed": true,
    "slideshow": {
     "slide_type": "fragment"
    }
   },
   "outputs": [],
   "source": [
    "gene = Seq('ATGTAGCCTTATACTCATCAAAATTGAATTAGTTAGGCTTGGGAAAGCCAGATGGAGTAA', IUPAC.unambiguous_dna)       "
   ]
  },
  {
   "cell_type": "code",
   "execution_count": 10,
   "metadata": {
    "collapsed": false,
    "slideshow": {
     "slide_type": "fragment"
    }
   },
   "outputs": [],
   "source": [
    "prot = gene.translate()"
   ]
  },
  {
   "cell_type": "code",
   "execution_count": 11,
   "metadata": {
    "collapsed": false,
    "slideshow": {
     "slide_type": "fragment"
    }
   },
   "outputs": [
    {
     "name": "stdout",
     "output_type": "stream",
     "text": [
      "M*PYTHQN*IS*AWESQME*\n"
     ]
    }
   ],
   "source": [
    "print(prot)"
   ]
  },
  {
   "cell_type": "markdown",
   "metadata": {
    "slideshow": {
     "slide_type": "slide"
    }
   },
   "source": [
    "# A more practical example\n",
    "\n",
    "Lets create a mutation library from a real gene."
   ]
  },
  {
   "cell_type": "markdown",
   "metadata": {
    "slideshow": {
     "slide_type": "fragment"
    }
   },
   "source": [
    "Since we'll be drinking beer later, lets get the\n",
    "ADH1 (Alcohol Dehydrogenase) from Saccharomyces cerevisiae\n",
    "from the NCBI nucleotide database\n"
   ]
  },
  {
   "cell_type": "code",
   "execution_count": 12,
   "metadata": {
    "collapsed": true,
    "slideshow": {
     "slide_type": "-"
    }
   },
   "outputs": [],
   "source": [
    "from Bio import Entrez\n",
    "from Bio import SeqIO\n",
    "\n",
    "Entrez.email = 'noreply@company.com'\n",
    "handle = Entrez.efetch(db='nucleotide', rettype='fasta', retmode='text', id='296147921')\n",
    "rec = SeqIO.read(handle, 'fasta')"
   ]
  },
  {
   "cell_type": "code",
   "execution_count": 13,
   "metadata": {
    "collapsed": false,
    "slideshow": {
     "slide_type": "subslide"
    }
   },
   "outputs": [
    {
     "name": "stdout",
     "output_type": "stream",
     "text": [
      ">gi|296147921|ref|NM_001183340.1| Saccharomyces cerevisiae S288c alcohol dehydrogenase ADH1 (ADH1), partial mRNA\n",
      "ATGTCTATCCCAGAAACTCAAAAAGGTGTTATCTTCTACGAATCCCACGGTAAGTTGGAA\n",
      "TACAAAGATATTCCAGTTCCAAAGCCAAAGGCCAACGAATTGTTGATCAACGTTAAATAC\n",
      "TCTGGTGTCTGTCACACTGACTTGCACGCTTGGCACGGTGACTGGCCATTGCCAGTTAAG\n",
      "CTACCATTAGTCGGTGGTCACGAAGGTGCCGGTGTCGTTGTCGGCATGGGTGAAAACGTT\n",
      "AAGGGCTGGAAGATCGGTGACTACGCCGGTATCAAATGGTTGAACGGTTCTTGTATGGCC\n",
      "TGTGAATACTGTGAATTGGGTAACGAATCCAACTGTCCTCACGCTGACTTGTCTGGTTAC\n",
      "ACCCACGACGGTTCTTTCCAACAATACGCTACCGCTGACGCTGTTCAAGCCGCTCACATT\n",
      "CCTCAAGGTACCGACTTGGCCCAAGTCGCCCCCATCTTGTGTGCTGGTATCACCGTCTAC\n",
      "AAGGCTTTGAAGTCTGCTAACTTGATGGCCGGTCACTGGGTTGCTATCTCCGGTGCTGCT\n",
      "GGTGGTCTAGGTTCTTTGGCTGTTCAATACGCCAAGGCTATGGGTTACAGAGTCTTGGGT\n",
      "ATTGACGGTGGTGAAGGTAAGGAAGAATTATTCAGATCCATCGGTGGTGAAGTCTTCATT\n",
      "GACTTCACTAAGGAAAAGGACATTGTCGGTGCTGTTCTAAAGGCCACTGACGGTGGTGCT\n",
      "CACGGTGTCATCAACGTTTCCGTTTCCGAAGCCGCTATTGAAGCTTCTACCAGATACGTT\n",
      "AGAGCTAACGGTACCACCGTTTTGGTCGGTATGCCAGCTGGTGCCAAGTGTTGTTCTGAT\n",
      "GTCTTCAACCAAGTCGTCAAGTCCATCTCTATTGTTGGTTCTTACGTCGGTAACAGAGCT\n",
      "GACACCAGAGAAGCTTTGGACTTCTTCGCCAGAGGTTTGGTCAAGTCTCCAATCAAGGTT\n",
      "GTCGGCTTGTCTACCTTGCCAGAAATTTACGAAAAGATGGAAAAGGGTCAAATCGTTGGT\n",
      "AGATACGTTGTTGACACTTCTAAATAA\n",
      "\n"
     ]
    }
   ],
   "source": [
    "# DNA Sequence (1047bp gene)\n",
    "print(rec.format('fasta'))"
   ]
  },
  {
   "cell_type": "code",
   "execution_count": 14,
   "metadata": {
    "collapsed": false,
    "slideshow": {
     "slide_type": "subslide"
    }
   },
   "outputs": [
    {
     "name": "stdout",
     "output_type": "stream",
     "text": [
      "MSIPETQKGVIFYESHGKLEYKDIPVPKPKANELLINVKYSGVCHTDLHAWHGDWPLPVKLPLVGGHEGAGVVVGMGENVKGWKIGDYAGIKWLNGSCMACEYCELGNESNCPHADLSGYTHDGSFQQYATADAVQAAHIPQGTDLAQVAPILCAGITVYKALKSANLMAGHWVAISGAAGGLGSLAVQYAKAMGYRVLGIDGGEGKEELFRSIGGEVFIDFTKEKDIVGAVLKATDGGAHGVINVSVSEAAIEASTRYVRANGTTVLVGMPAGAKCCSDVFNQVVKSISIVGSYVGNRADTREALDFFARGLVKSPIKVVGLSTLPEIYEKMEKGQIVGRYVVDTSK*\n"
     ]
    }
   ],
   "source": [
    "# Protein Sequence (349aa protein)\n",
    "print(str(rec.seq.translate()))"
   ]
  },
  {
   "cell_type": "markdown",
   "metadata": {
    "slideshow": {
     "slide_type": "slide"
    }
   },
   "source": [
    "# What mutations?\n",
    "\n",
    "Based on this paper: http://www.ncbi.nlm.nih.gov/pubmed/25157460/\n",
    "positions 43, 66, 67, and 153 look interesting\n",
    "(Assuming the first aa position is 0)\n"
   ]
  },
  {
   "cell_type": "markdown",
   "metadata": {
    "slideshow": {
     "slide_type": "fragment"
    }
   },
   "source": [
    "Let's make all possible combinations of amino acids at these positions"
   ]
  },
  {
   "cell_type": "markdown",
   "metadata": {
    "slideshow": {
     "slide_type": "subslide"
    }
   },
   "source": [
    "## Codons to use"
   ]
  },
  {
   "cell_type": "code",
   "execution_count": 15,
   "metadata": {
    "collapsed": false,
    "slideshow": {
     "slide_type": "-"
    }
   },
   "outputs": [
    {
     "name": "stdout",
     "output_type": "stream",
     "text": [
      "{'W': 'TGG', 'P': 'CCT', 'K': 'AAG', 'V': 'GTT', 'R': 'CGT', 'T': 'ACT', 'M': 'ATG', 'S': 'TCT', 'N': 'AAT', 'A': 'GCT', 'D': 'GAT', 'Q': 'CAG', 'E': 'GAG', 'G': 'GGT', 'Y': 'TAT', None: 'TAA', 'I': 'ATT', 'F': 'TTT', 'C': 'TGT', 'H': 'CAT', 'L': 'TTG'}\n"
     ]
    }
   ],
   "source": [
    "from Bio.Data import CodonTable\n",
    "\n",
    "standard_table = CodonTable.unambiguous_dna_by_id[1]\n",
    "print(standard_table.back_table)"
   ]
  },
  {
   "cell_type": "markdown",
   "metadata": {
    "slideshow": {
     "slide_type": "slide"
    }
   },
   "source": [
    "# Making unique combinations\n",
    "\n",
    "How do we do this?"
   ]
  },
  {
   "cell_type": "markdown",
   "metadata": {
    "slideshow": {
     "slide_type": "subslide"
    }
   },
   "source": [
    "Brute force ... write several nested for loops"
   ]
  },
  {
   "cell_type": "code",
   "execution_count": null,
   "metadata": {
    "collapsed": true,
    "slideshow": {
     "slide_type": "-"
    }
   },
   "outputs": [],
   "source": [
    "for codon1 in codons:\n",
    "    for codon2 in codons:\n",
    "        for codon3 in codons:\n",
    "            for codon4 in codons:\n",
    "                # set pos1 = codon1\n",
    "                # set pos2 = codon2\n",
    "                # set pos3 = codon3\n",
    "                # set pos4 = codon4"
   ]
  },
  {
   "cell_type": "markdown",
   "metadata": {
    "slideshow": {
     "slide_type": "fragment"
    }
   },
   "source": [
    "ugly, difficult to maintain (not generic), does not scale well"
   ]
  },
  {
   "cell_type": "markdown",
   "metadata": {
    "slideshow": {
     "slide_type": "subslide"
    }
   },
   "source": [
    "Elegance ... use __itertools__"
   ]
  },
  {
   "cell_type": "code",
   "execution_count": 16,
   "metadata": {
    "collapsed": true,
    "slideshow": {
     "slide_type": "-"
    }
   },
   "outputs": [],
   "source": [
    "import itertools as it\n",
    "\n",
    "# positions to target\n",
    "pos = [43, 66, 67, 153]\n",
    "\n",
    "# substitute all codons at all positions\n",
    "pos_codons = [list(standard_table.back_table.keys())[:-1] for p in range(len(pos))]\n",
    "\n",
    "combos = it.product(*pos_codons)\n"
   ]
  },
  {
   "cell_type": "code",
   "execution_count": 17,
   "metadata": {
    "collapsed": false,
    "slideshow": {
     "slide_type": "fragment"
    }
   },
   "outputs": [
    {
     "data": {
      "text/plain": [
       "('W', 'W', 'W', 'W')"
      ]
     },
     "execution_count": 17,
     "metadata": {},
     "output_type": "execute_result"
    }
   ],
   "source": [
    "combos.__next__()"
   ]
  },
  {
   "cell_type": "code",
   "execution_count": 18,
   "metadata": {
    "collapsed": false,
    "slideshow": {
     "slide_type": "fragment"
    }
   },
   "outputs": [
    {
     "data": {
      "text/plain": [
       "('W', 'W', 'W', 'P')"
      ]
     },
     "execution_count": 18,
     "metadata": {},
     "output_type": "execute_result"
    }
   ],
   "source": [
    "combos.__next__()"
   ]
  },
  {
   "cell_type": "code",
   "execution_count": 19,
   "metadata": {
    "collapsed": false,
    "slideshow": {
     "slide_type": "fragment"
    }
   },
   "outputs": [
    {
     "data": {
      "text/plain": [
       "('W', 'W', 'W', 'K')"
      ]
     },
     "execution_count": 19,
     "metadata": {},
     "output_type": "execute_result"
    }
   ],
   "source": [
    "combos.__next__()"
   ]
  },
  {
   "cell_type": "markdown",
   "metadata": {
    "slideshow": {
     "slide_type": "fragment"
    }
   },
   "source": [
    "repeat out to all 160,000 combinations ..."
   ]
  },
  {
   "cell_type": "markdown",
   "metadata": {
    "slideshow": {
     "slide_type": "slide"
    }
   },
   "source": [
    "# Making a library of sequences"
   ]
  },
  {
   "cell_type": "code",
   "execution_count": 21,
   "metadata": {
    "collapsed": true,
    "slideshow": {
     "slide_type": "-"
    }
   },
   "outputs": [],
   "source": [
    "# positions to target\n",
    "pos = [43, 66, 67, 153]\n",
    "\n",
    "# substitute all codons at all positions\n",
    "pos_codons = [list(standard_table.back_table.keys())[:-1] for p in range(len(pos))]\n",
    "\n",
    "combos = it.product(*pos_codons)\n",
    "\n",
    "# split the gene into codons\n",
    "gene_codons = [str(rec.seq[i:i+3]) for i in range(0, len(rec.seq), 3)]\n",
    "\n",
    "# write the library to a file\n",
    "with open('sequence_library.txt', 'w') as f:\n",
    "    id = 0\n",
    "    \n",
    "    # write the template first\n",
    "    f.write('{}\\t{}\\n'.format(id, ''.join(gene_codons)))\n",
    "\n",
    "    # iterate over the combinations\n",
    "    for combo in combos:\n",
    "        id += 1\n",
    "        for p in range(len(combo)):\n",
    "            gene_codons[pos[p]] = standard_table.back_table[combo[p]]\n",
    "\n",
    "        f.write('{}\\t{}\\n'.format(id, ''.join(gene_codons)))\n"
   ]
  },
  {
   "cell_type": "markdown",
   "metadata": {
    "slideshow": {
     "slide_type": "fragment"
    }
   },
   "source": [
    "Send the resultant file to \"print\" all the sequences."
   ]
  },
  {
   "cell_type": "markdown",
   "metadata": {
    "slideshow": {
     "slide_type": "subslide"
    }
   },
   "source": [
    "### Voila! A combinatorial mutation library in less than 10min!"
   ]
  },
  {
   "cell_type": "markdown",
   "metadata": {
    "slideshow": {
     "slide_type": "slide"
    }
   },
   "source": [
    "# Questions, comments?"
   ]
  }
 ],
 "metadata": {
  "celltoolbar": "Slideshow",
  "kernelspec": {
   "display_name": "Python 3",
   "language": "python",
   "name": "python3"
  },
  "language_info": {
   "codemirror_mode": {
    "name": "ipython",
    "version": 3
   },
   "file_extension": ".py",
   "mimetype": "text/x-python",
   "name": "python",
   "nbconvert_exporter": "python",
   "pygments_lexer": "ipython3",
   "version": "3.4.1"
  }
 },
 "nbformat": 4,
 "nbformat_minor": 0
}
